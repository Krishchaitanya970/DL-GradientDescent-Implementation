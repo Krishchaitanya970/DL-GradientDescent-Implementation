{
 "cells": [
  {
   "cell_type": "markdown",
   "id": "6d571b38",
   "metadata": {
    "vscode": {
     "languageId": "plaintext"
    }
   },
   "source": [
    "<h2 style=\"align:center\">DL : Gradient Descent Implementation Python</h2>"
   ]
  },
  {
   "cell_type": "markdown",
   "id": "11d5eadf",
   "metadata": {
    "vscode": {
     "languageId": "plaintext"
    }
   },
   "source": [
    "For employee's bonus dataset, implement gradient descent in PyTorch to find optimal values of weights that decides the bonus amount.\n",
    "\n",
    "𝑏𝑜𝑛𝑢𝑠 = 𝜔_1∗𝑝𝑒𝑟𝑓𝑜𝑟𝑚𝑎𝑛𝑐𝑒+𝜔_2∗𝑒𝑥𝑝𝑒𝑟𝑖𝑒𝑛𝑐𝑒+𝜔_3∗𝑝𝑟𝑜𝑗𝑒𝑐𝑡𝑠_𝑐𝑜𝑚𝑝𝑙𝑒𝑡𝑒𝑑+ 𝑏"
   ]
  },
  {
   "cell_type": "code",
   "execution_count": 2,
   "id": "f3b030bd",
   "metadata": {},
   "outputs": [
    {
     "data": {
      "text/html": [
       "<div>\n",
       "<style scoped>\n",
       "    .dataframe tbody tr th:only-of-type {\n",
       "        vertical-align: middle;\n",
       "    }\n",
       "\n",
       "    .dataframe tbody tr th {\n",
       "        vertical-align: top;\n",
       "    }\n",
       "\n",
       "    .dataframe thead th {\n",
       "        text-align: right;\n",
       "    }\n",
       "</style>\n",
       "<table border=\"1\" class=\"dataframe\">\n",
       "  <thead>\n",
       "    <tr style=\"text-align: right;\">\n",
       "      <th></th>\n",
       "      <th>employee_id</th>\n",
       "      <th>performance</th>\n",
       "      <th>years_of_experience</th>\n",
       "      <th>projects_completed</th>\n",
       "      <th>bonus</th>\n",
       "    </tr>\n",
       "  </thead>\n",
       "  <tbody>\n",
       "    <tr>\n",
       "      <th>0</th>\n",
       "      <td>EMP_001</td>\n",
       "      <td>7</td>\n",
       "      <td>2</td>\n",
       "      <td>4</td>\n",
       "      <td>124</td>\n",
       "    </tr>\n",
       "    <tr>\n",
       "      <th>1</th>\n",
       "      <td>EMP_002</td>\n",
       "      <td>4</td>\n",
       "      <td>1</td>\n",
       "      <td>4</td>\n",
       "      <td>82</td>\n",
       "    </tr>\n",
       "    <tr>\n",
       "      <th>2</th>\n",
       "      <td>EMP_003</td>\n",
       "      <td>8</td>\n",
       "      <td>7</td>\n",
       "      <td>10</td>\n",
       "      <td>178</td>\n",
       "    </tr>\n",
       "    <tr>\n",
       "      <th>3</th>\n",
       "      <td>EMP_004</td>\n",
       "      <td>5</td>\n",
       "      <td>7</td>\n",
       "      <td>8</td>\n",
       "      <td>138</td>\n",
       "    </tr>\n",
       "    <tr>\n",
       "      <th>4</th>\n",
       "      <td>EMP_005</td>\n",
       "      <td>7</td>\n",
       "      <td>8</td>\n",
       "      <td>9</td>\n",
       "      <td>170</td>\n",
       "    </tr>\n",
       "  </tbody>\n",
       "</table>\n",
       "</div>"
      ],
      "text/plain": [
       "  employee_id  performance  years_of_experience  projects_completed  bonus\n",
       "0     EMP_001            7                    2                   4    124\n",
       "1     EMP_002            4                    1                   4     82\n",
       "2     EMP_003            8                    7                  10    178\n",
       "3     EMP_004            5                    7                   8    138\n",
       "4     EMP_005            7                    8                   9    170"
      ]
     },
     "execution_count": 2,
     "metadata": {},
     "output_type": "execute_result"
    }
   ],
   "source": [
    "import pandas as pd\n",
    "from matplotlib import pyplot as plt\n",
    "\n",
    "# Step 1: Read the dataset from the CSV file\n",
    "df = pd.read_csv('bonus_dataset.csv')\n",
    "df.head()"
   ]
  },
  {
   "cell_type": "code",
   "execution_count": 3,
   "id": "d48fdffb",
   "metadata": {},
   "outputs": [
    {
     "data": {
      "text/plain": [
       "(100, 5)"
      ]
     },
     "execution_count": 3,
     "metadata": {},
     "output_type": "execute_result"
    }
   ],
   "source": [
    "df.shape\n"
   ]
  },
  {
   "cell_type": "code",
   "execution_count": 4,
   "id": "f80f200c",
   "metadata": {},
   "outputs": [],
   "source": [
    "import torch\n",
    "\n",
    "# Extract features and target from the DataFrame\n",
    "performance = torch.tensor(df['performance'].values, dtype=torch.float32)\n",
    "years_of_experience = torch.tensor(df['years_of_experience'].values, dtype=torch.float32)\n",
    "projects_completed = torch.tensor(df['projects_completed'].values, dtype=torch.float32)\n",
    "bonus = torch.tensor(df['bonus'].values, dtype=torch.float32)"
   ]
  },
  {
   "cell_type": "markdown",
   "id": "6e5bc5c6",
   "metadata": {},
   "source": [
    "Batch Gradient Descent "
   ]
  },
  {
   "cell_type": "code",
   "execution_count": 5,
   "id": "e77c3f35",
   "metadata": {},
   "outputs": [
    {
     "data": {
      "text/plain": [
       "(tensor([0.1027], requires_grad=True), tensor([0.2238], requires_grad=True))"
      ]
     },
     "execution_count": 5,
     "metadata": {},
     "output_type": "execute_result"
    }
   ],
   "source": [
    "w1 = torch.rand(1, requires_grad=True)\n",
    "w2 = torch.rand(1, requires_grad=True)\n",
    "w3 = torch.rand(1, requires_grad=True)\n",
    "bias = torch.rand(1, requires_grad=True)\n",
    "\n",
    "w1, w2"
   ]
  },
  {
   "cell_type": "code",
   "execution_count": 6,
   "id": "08ece0d9",
   "metadata": {},
   "outputs": [
    {
     "name": "stdout",
     "output_type": "stream",
     "text": [
      "Epoch [100/5000], Loss: 16.9396\n",
      "Epoch [200/5000], Loss: 14.7831\n",
      "Epoch [300/5000], Loss: 12.9016\n",
      "Epoch [400/5000], Loss: 11.2598\n",
      "Epoch [500/5000], Loss: 9.8269\n",
      "Epoch [600/5000], Loss: 8.5764\n",
      "Epoch [700/5000], Loss: 7.4850\n",
      "Epoch [800/5000], Loss: 6.5325\n",
      "Epoch [900/5000], Loss: 5.7012\n",
      "Epoch [1000/5000], Loss: 4.9757\n",
      "Epoch [1100/5000], Loss: 4.3425\n",
      "Epoch [1200/5000], Loss: 3.7899\n",
      "Epoch [1300/5000], Loss: 3.3076\n",
      "Epoch [1400/5000], Loss: 2.8867\n",
      "Epoch [1500/5000], Loss: 2.5193\n",
      "Epoch [1600/5000], Loss: 2.1987\n",
      "Epoch [1700/5000], Loss: 1.9189\n",
      "Epoch [1800/5000], Loss: 1.6747\n",
      "Epoch [1900/5000], Loss: 1.4616\n",
      "Epoch [2000/5000], Loss: 1.2756\n",
      "Epoch [2100/5000], Loss: 1.1133\n",
      "Epoch [2200/5000], Loss: 0.9716\n",
      "Epoch [2300/5000], Loss: 0.8480\n",
      "Epoch [2400/5000], Loss: 0.7401\n",
      "Epoch [2500/5000], Loss: 0.6459\n",
      "Epoch [2600/5000], Loss: 0.5637\n",
      "Epoch [2700/5000], Loss: 0.4920\n",
      "Epoch [2800/5000], Loss: 0.4294\n",
      "Epoch [2900/5000], Loss: 0.3747\n",
      "Epoch [3000/5000], Loss: 0.3270\n",
      "Epoch [3100/5000], Loss: 0.2854\n",
      "Epoch [3200/5000], Loss: 0.2491\n",
      "Epoch [3300/5000], Loss: 0.2174\n",
      "Epoch [3400/5000], Loss: 0.1897\n",
      "Epoch [3500/5000], Loss: 0.1656\n",
      "Epoch [3600/5000], Loss: 0.1445\n",
      "Epoch [3700/5000], Loss: 0.1261\n",
      "Epoch [3800/5000], Loss: 0.1101\n",
      "Epoch [3900/5000], Loss: 0.0961\n",
      "Epoch [4000/5000], Loss: 0.0838\n",
      "Epoch [4100/5000], Loss: 0.0732\n",
      "Epoch [4200/5000], Loss: 0.0639\n",
      "Epoch [4300/5000], Loss: 0.0557\n",
      "Epoch [4400/5000], Loss: 0.0486\n",
      "Epoch [4500/5000], Loss: 0.0425\n",
      "Epoch [4600/5000], Loss: 0.0370\n",
      "Epoch [4700/5000], Loss: 0.0323\n",
      "Epoch [4800/5000], Loss: 0.0282\n",
      "Epoch [4900/5000], Loss: 0.0246\n",
      "Epoch [5000/5000], Loss: 0.0215\n"
     ]
    }
   ],
   "source": [
    "w1 = torch.rand(1, requires_grad=True)\n",
    "w2 = torch.rand(1, requires_grad=True)\n",
    "w3 = torch.rand(1, requires_grad=True)\n",
    "bias = torch.rand(1, requires_grad=True)\n",
    "\n",
    "# Learning rate and number of iterations\n",
    "learning_rate = 0.006\n",
    "epochs = 5000\n",
    "\n",
    "# Step 3: Training loop for gradient descent\n",
    "for epoch in range(epochs):\n",
    "    # Compute the predicted bonus using the current weights and bias\n",
    "    predicted_bonus = w1 * performance + w2 * years_of_experience + w3 * projects_completed + bias\n",
    "    \n",
    "    # Compute the Mean Squared Error (MSE) loss\n",
    "    loss = ((predicted_bonus - bonus) ** 2).mean()\n",
    "    \n",
    "    # Perform backpropagation to compute gradients of the loss with respect to w1, w2, w3, and bias\n",
    "    loss.backward()\n",
    "    \n",
    "    # Update the weights and bias using the computed gradients\n",
    "    with torch.no_grad():\n",
    "        w1 -= learning_rate * w1.grad\n",
    "        w2 -= learning_rate * w2.grad\n",
    "        w3 -= learning_rate * w3.grad\n",
    "        bias -= learning_rate * bias.grad\n",
    "\n",
    "    # Zero the gradients after updating\n",
    "    w1.grad.zero_()\n",
    "    w2.grad.zero_()\n",
    "    w3.grad.zero_()\n",
    "    bias.grad.zero_()\n",
    "\n",
    "    # Print the loss at regular intervals\n",
    "    if (epoch + 1) % 100 == 0:\n",
    "        print(f\"Epoch [{epoch + 1}/{epochs}], Loss: {loss.item():.4f}\")"
   ]
  },
  {
   "cell_type": "code",
   "execution_count": 7,
   "id": "5bb04068",
   "metadata": {},
   "outputs": [
    {
     "name": "stdout",
     "output_type": "stream",
     "text": [
      "\n",
      "Learned weights and bias:\n",
      "w1: 12.03, w2: 5.91, w3: 2.12, bias: 19.40\n"
     ]
    }
   ],
   "source": [
    "# Step 4: Print the learned weights and bias\n",
    "print(f\"\\nLearned weights and bias:\")\n",
    "print(f\"w1: {w1.item():.2f}, w2: {w2.item():.2f}, w3: {w3.item():.2f}, bias: {bias.item():.2f}\")"
   ]
  },
  {
   "cell_type": "code",
   "execution_count": 8,
   "id": "222eede9",
   "metadata": {},
   "outputs": [
    {
     "data": {
      "text/plain": [
       "tensor([142.0791], grad_fn=<AddBackward0>)"
      ]
     },
     "execution_count": 8,
     "metadata": {},
     "output_type": "execute_result"
    }
   ],
   "source": [
    "# predicted_bonus = w1 * performance + w2 * years_of_experience + w3 * projects_completed + bias\n",
    "predicted_bonus = w1 * 7 + w2 * 4 + w3 * 7 + bias\n",
    "predicted_bonus"
   ]
  },
  {
   "cell_type": "code",
   "execution_count": null,
   "id": "9465005b",
   "metadata": {},
   "outputs": [],
   "source": []
  }
 ],
 "metadata": {
  "kernelspec": {
   "display_name": "Python (PyTorch)",
   "language": "python",
   "name": "torch-env"
  },
  "language_info": {
   "codemirror_mode": {
    "name": "ipython",
    "version": 3
   },
   "file_extension": ".py",
   "mimetype": "text/x-python",
   "name": "python",
   "nbconvert_exporter": "python",
   "pygments_lexer": "ipython3",
   "version": "3.13.3"
  }
 },
 "nbformat": 4,
 "nbformat_minor": 5
}
